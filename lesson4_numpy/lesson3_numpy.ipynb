{
 "cells": [
  {
   "cell_type": "code",
   "execution_count": 1,
   "id": "4623f418-cf6f-4c8f-bf6d-aa71e203482c",
   "metadata": {},
   "outputs": [
    {
     "name": "stdout",
     "output_type": "stream",
     "text": [
      "Note: you may need to restart the kernel to use updated packages.\n",
      "Collecting numpy\n",
      "  Downloading numpy-2.2.5-cp310-cp310-win_amd64.whl.metadata (60 kB)\n",
      "     ---------------------------------------- 0.0/60.8 kB ? eta -:--:--\n",
      "     -------------------- ------------------- 30.7/60.8 kB 1.3 MB/s eta 0:00:01\n",
      "     -------------------------------------- 60.8/60.8 kB 803.2 kB/s eta 0:00:00\n",
      "Downloading numpy-2.2.5-cp310-cp310-win_amd64.whl (12.9 MB)\n",
      "   ---------------------------------------- 0.0/12.9 MB ? eta -:--:--\n",
      "   ---------------------------------------- 0.1/12.9 MB 3.8 MB/s eta 0:00:04\n",
      "    --------------------------------------- 0.2/12.9 MB 2.9 MB/s eta 0:00:05\n",
      "   - -------------------------------------- 0.6/12.9 MB 4.4 MB/s eta 0:00:03\n",
      "   --- ------------------------------------ 1.0/12.9 MB 5.1 MB/s eta 0:00:03\n",
      "   ---- ----------------------------------- 1.5/12.9 MB 6.5 MB/s eta 0:00:02\n",
      "   ------ --------------------------------- 2.0/12.9 MB 7.1 MB/s eta 0:00:02\n",
      "   -------- ------------------------------- 2.6/12.9 MB 8.0 MB/s eta 0:00:02\n",
      "   --------- ------------------------------ 3.2/12.9 MB 8.4 MB/s eta 0:00:02\n",
      "   ----------- ---------------------------- 3.7/12.9 MB 8.8 MB/s eta 0:00:02\n",
      "   ------------- -------------------------- 4.2/12.9 MB 9.0 MB/s eta 0:00:01\n",
      "   -------------- ------------------------- 4.8/12.9 MB 9.2 MB/s eta 0:00:01\n",
      "   ---------------- ----------------------- 5.3/12.9 MB 9.5 MB/s eta 0:00:01\n",
      "   ------------------ --------------------- 5.9/12.9 MB 9.6 MB/s eta 0:00:01\n",
      "   ------------------- -------------------- 6.4/12.9 MB 9.7 MB/s eta 0:00:01\n",
      "   --------------------- ------------------ 7.0/12.9 MB 9.9 MB/s eta 0:00:01\n",
      "   ----------------------- ---------------- 7.5/12.9 MB 10.0 MB/s eta 0:00:01\n",
      "   ------------------------ --------------- 8.0/12.9 MB 10.1 MB/s eta 0:00:01\n",
      "   ------------------------- -------------- 8.4/12.9 MB 9.9 MB/s eta 0:00:01\n",
      "   -------------------------- ------------- 8.7/12.9 MB 9.7 MB/s eta 0:00:01\n",
      "   --------------------------- ------------ 9.0/12.9 MB 9.6 MB/s eta 0:00:01\n",
      "   ---------------------------- ----------- 9.3/12.9 MB 9.5 MB/s eta 0:00:01\n",
      "   ------------------------------ --------- 9.9/12.9 MB 9.5 MB/s eta 0:00:01\n",
      "   ------------------------------ --------- 10.0/12.9 MB 9.6 MB/s eta 0:00:01\n",
      "   ------------------------------- -------- 10.0/12.9 MB 9.3 MB/s eta 0:00:01\n",
      "   ------------------------------- -------- 10.2/12.9 MB 8.7 MB/s eta 0:00:01\n",
      "   --------------------------------- ------ 10.8/12.9 MB 9.4 MB/s eta 0:00:01\n",
      "   ---------------------------------- ----- 11.3/12.9 MB 9.5 MB/s eta 0:00:01\n",
      "   ------------------------------------ --- 11.9/12.9 MB 9.5 MB/s eta 0:00:01\n",
      "   -------------------------------------- - 12.4/12.9 MB 9.5 MB/s eta 0:00:01\n",
      "   ---------------------------------------  12.9/12.9 MB 9.5 MB/s eta 0:00:01\n",
      "   ---------------------------------------- 12.9/12.9 MB 9.2 MB/s eta 0:00:00\n",
      "Installing collected packages: numpy\n"
     ]
    },
    {
     "name": "stderr",
     "output_type": "stream",
     "text": [
      "  WARNING: Failed to write executable - trying to use .deleteme logic\n",
      "ERROR: Could not install packages due to an OSError: [WinError 2] The system cannot find the file specified: 'C:\\\\Python310\\\\Scripts\\\\f2py.exe' -> 'C:\\\\Python310\\\\Scripts\\\\f2py.exe.deleteme'\n",
      "\n",
      "\n",
      "[notice] A new release of pip is available: 23.3.2 -> 25.1\n",
      "[notice] To update, run: python.exe -m pip install --upgrade pip\n"
     ]
    }
   ],
   "source": [
    "pip install numpy\n"
   ]
  },
  {
   "cell_type": "code",
   "execution_count": 2,
   "id": "63cff248-9663-4112-9a0f-af5c302216e0",
   "metadata": {},
   "outputs": [],
   "source": [
    "import numpy as np\n"
   ]
  },
  {
   "cell_type": "code",
   "execution_count": 3,
   "id": "fd02789a-aba4-4fe1-932f-9ac576db9460",
   "metadata": {},
   "outputs": [],
   "source": [
    "simple_list = [1, 2, 3]\n",
    "special_array = np.array(simple_list)"
   ]
  },
  {
   "cell_type": "code",
   "execution_count": 4,
   "id": "d86084b2-e1a7-48ce-8cce-b728146c6b67",
   "metadata": {},
   "outputs": [
    {
     "name": "stdout",
     "output_type": "stream",
     "text": [
      "[1 2 3]\n",
      "[1, 2, 3]\n"
     ]
    }
   ],
   "source": [
    "print(special_array)\n",
    "print(simple_list)"
   ]
  },
  {
   "cell_type": "code",
   "execution_count": 5,
   "id": "6185787b-74f4-45e7-965a-46acf71b2087",
   "metadata": {},
   "outputs": [
    {
     "data": {
      "text/plain": [
       "array([25, 37, 40, 15, 25, 23, 17, 21,  2, 41], dtype=int32)"
      ]
     },
     "execution_count": 5,
     "metadata": {},
     "output_type": "execute_result"
    }
   ],
   "source": [
    "random_arr=np.random.randint(1,50,size=10)\n",
    "random_arr\n"
   ]
  },
  {
   "cell_type": "code",
   "execution_count": null,
   "id": "6d065f60-ddc1-4735-b725-d0b7a63eb9f6",
   "metadata": {},
   "outputs": [],
   "source": [
    "random_mat=ng.random.randint(10,100,size=(2,5))\n",
    "random_mat\n"
   ]
  }
 ],
 "metadata": {
  "kernelspec": {
   "display_name": "Python 3 (ipykernel)",
   "language": "python",
   "name": "python3"
  },
  "language_info": {
   "codemirror_mode": {
    "name": "ipython",
    "version": 3
   },
   "file_extension": ".py",
   "mimetype": "text/x-python",
   "name": "python",
   "nbconvert_exporter": "python",
   "pygments_lexer": "ipython3",
   "version": "3.10.8"
  }
 },
 "nbformat": 4,
 "nbformat_minor": 5
}
